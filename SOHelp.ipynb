{
  "nbformat": 4,
  "nbformat_minor": 0,
  "metadata": {
    "colab": {
      "name": "SOHelp.ipynb",
      "version": "0.3.2",
      "provenance": [],
      "collapsed_sections": [],
      "include_colab_link": true
    },
    "kernelspec": {
      "name": "python3",
      "display_name": "Python 3"
    }
  },
  "cells": [
    {
      "cell_type": "markdown",
      "metadata": {
        "id": "view-in-github",
        "colab_type": "text"
      },
      "source": [
        "[View in Colaboratory](https://colab.research.google.com/github/pirsquared/piRTools/blob/master/SOHelp.ipynb)"
      ]
    },
    {
      "metadata": {
        "id": "Jx6-73sdfc3u",
        "colab_type": "text"
      },
      "cell_type": "markdown",
      "source": [
        "# Prep Runtime\n",
        "* Install Numba\n",
        "* Install cytoolz"
      ]
    },
    {
      "metadata": {
        "id": "lBYR07iBfC11",
        "colab_type": "code",
        "colab": {},
        "cellView": "code"
      },
      "cell_type": "code",
      "source": [
        "!pip install numba\n",
        "!pip install cytoolz"
      ],
      "execution_count": 0,
      "outputs": []
    },
    {
      "metadata": {
        "id": "4s7We_Vcco2S",
        "colab_type": "text"
      },
      "cell_type": "markdown",
      "source": [
        "# Imports\n",
        "Many things I use for answering questions"
      ]
    },
    {
      "metadata": {
        "id": "e74_WsX8kNgI",
        "colab_type": "code",
        "colab": {}
      },
      "cell_type": "code",
      "source": [
        "import pandas as pd\n",
        "import numpy as np\n",
        "import matplotlib.pyplot as plt\n",
        "\n",
        "from string import ascii_uppercase as ascup\n",
        "from string import ascii_lowercase as asclo\n",
        "from string import ascii_letters as asclt\n",
        "from string import digits as ascdi\n",
        "from timeit import timeit\n",
        "from collections import defaultdict, Counter, deque, OrderedDict, namedtuple\n",
        "from numba import njit\n",
        "\n",
        "import itertools as it\n",
        "import cytoolz as ct\n",
        "from itertools import chain, combinations, permutations, count, takewhile\n",
        "import functools\n",
        "from functools import partial, reduce\n",
        "import inspect\n",
        "import re\n",
        "import datetime as dt\n",
        "import json\n",
        "import ast\n",
        "import math\n",
        "import random\n",
        "import scipy\n",
        "\n",
        "pd.set_option(\n",
        "    'display.notebook_repr_html', False,\n",
        "    'expand_frame_repr', False,\n",
        "    'display.max_colwidth', 50\n",
        ")\n",
        "%matplotlib inline"
      ],
      "execution_count": 0,
      "outputs": []
    },
    {
      "metadata": {
        "id": "YsQLLFRKcxkh",
        "colab_type": "text"
      },
      "cell_type": "markdown",
      "source": [
        "# Parsing functions\n",
        "* `rpd` is a generic parser taking a string and passing it through `StringIO`\n",
        "* `idx0` is a `partial` of `rpd` that insists that the first input column is considered the index\n",
        "* `sep2` assumes that the separator should be two or more white space characters\n",
        "* `dte0` assumes the first column is a date and is the index\n",
        "* `dte_` assumes the first column is a date"
      ]
    },
    {
      "metadata": {
        "id": "881_wCNHmZcJ",
        "colab_type": "code",
        "colab": {}
      },
      "cell_type": "code",
      "source": [
        "def rpd(text='', sep='\\s{1,}', *args, **kwargs):\n",
        "  kw = dict(engine='python', sep=sep)\n",
        "  return pd.read_csv(pd.io.common.StringIO(text), *args, **kw, **kwargs)\n",
        "\n",
        "idx0 = partial(rpd, index_col=0)\n",
        "sep2 = partial(rpd, sep='\\s{2,}')\n",
        "dte0 = partial(rpd, sep='\\s{2,}', index_col=0, parse_dates=[0])\n",
        "dte_ = partial(rpd, sep='\\s{2,}', parse_dates=[0])"
      ],
      "execution_count": 0,
      "outputs": []
    },
    {
      "metadata": {
        "id": "51jsfB07dqeG",
        "colab_type": "text"
      },
      "cell_type": "markdown",
      "source": [
        "# [Put it link to question and answer]()"
      ]
    },
    {
      "metadata": {
        "id": "wAeiZJe_cYm_",
        "colab_type": "code",
        "colab": {}
      },
      "cell_type": "code",
      "source": [
        ""
      ],
      "execution_count": 0,
      "outputs": []
    }
  ]
}